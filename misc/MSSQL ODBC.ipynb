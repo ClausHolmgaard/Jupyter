{
 "cells": [
  {
   "cell_type": "markdown",
   "metadata": {},
   "source": [
    "### Connecting to a MSSQL Database using ODBC"
   ]
  },
  {
   "cell_type": "code",
   "execution_count": 1,
   "metadata": {
    "collapsed": true
   },
   "outputs": [],
   "source": [
    "import pyodbc"
   ]
  },
  {
   "cell_type": "markdown",
   "metadata": {},
   "source": [
    "### General connection information"
   ]
  },
  {
   "cell_type": "markdown",
   "metadata": {},
   "source": [
    "NOTE: <br>\n",
    "Use SQLServerManager14.msc to enable tcp, set ports and so on."
   ]
  },
  {
   "cell_type": "code",
   "execution_count": 2,
   "metadata": {
    "collapsed": true
   },
   "outputs": [],
   "source": [
    "server = r'.\\SQLEXPRESS'\n",
    "port = '14430'\n",
    "user = 'PythonUser'\n",
    "password = 'Password1'\n",
    "database = 'PythonDatabase'"
   ]
  },
  {
   "cell_type": "markdown",
   "metadata": {},
   "source": [
    "### Connect to the database"
   ]
  },
  {
   "cell_type": "code",
   "execution_count": 3,
   "metadata": {},
   "outputs": [],
   "source": [
    "con = pyodbc.connect('DRIVER={ODBC Driver 13 for SQL Server};\\\n",
    "                      SERVER='+server+';\\\n",
    "                      DATABASE='+database+';\\\n",
    "                      UID='+user+';\\\n",
    "                      PWD='+ password,\n",
    "                      autocommit=True)  # Enable transactions"
   ]
  },
  {
   "cell_type": "markdown",
   "metadata": {},
   "source": [
    "Create a cursor object to execute queries"
   ]
  },
  {
   "cell_type": "code",
   "execution_count": 4,
   "metadata": {
    "collapsed": true
   },
   "outputs": [],
   "source": [
    "cursor = con.cursor()"
   ]
  },
  {
   "cell_type": "markdown",
   "metadata": {},
   "source": [
    "### Creating tables"
   ]
  },
  {
   "cell_type": "markdown",
   "metadata": {},
   "source": [
    "We want to tables, Persons and Sales. So we check if these exist, and create them if not."
   ]
  },
  {
   "cell_type": "markdown",
   "metadata": {},
   "source": [
    "Create Persons table, if it does not exist."
   ]
  },
  {
   "cell_type": "code",
   "execution_count": 5,
   "metadata": {},
   "outputs": [
    {
     "name": "stdout",
     "output_type": "stream",
     "text": [
      "Does Persons exist result: []\n",
      "Creating Persons table\n"
     ]
    }
   ],
   "source": [
    "sql_string = \"SELECT * FROM INFORMATION_SCHEMA.TABLES WHERE TABLE_NAME = 'Persons'\"\n",
    "\n",
    "cursor.execute(sql_string)\n",
    "res = cursor.fetchall()\n",
    "print(\"Does Persons exist result: {}\".format(res))\n",
    "\n",
    "if len(res) == 0:\n",
    "    persons_exists = False\n",
    "else:\n",
    "    if 'Persons' in res[0]:\n",
    "        persons_exists = True\n",
    "    else:\n",
    "        persons_exists = False\n",
    "\n",
    "if not persons_exists:\n",
    "    print(\"Creating Persons table\")\n",
    "    # In the following string identity(1, 1) will enable auto increment for that row\n",
    "    cursor.execute('CREATE TABLE dbo.Persons \\\n",
    "                        (id int not null identity(1, 1) primary key, \\\n",
    "                         First varchar(50) not null, \\\n",
    "                         Last varchar(50) not null)')\n",
    "else:\n",
    "    print(\"Persons table already exists\")"
   ]
  },
  {
   "cell_type": "markdown",
   "metadata": {},
   "source": [
    "And create the Sales database, if it does not exist"
   ]
  },
  {
   "cell_type": "code",
   "execution_count": 6,
   "metadata": {},
   "outputs": [
    {
     "name": "stdout",
     "output_type": "stream",
     "text": [
      "Does Sales exist result: []\n",
      "Creating Sales table\n"
     ]
    }
   ],
   "source": [
    "sql_string = \"SELECT * FROM INFORMATION_SCHEMA.TABLES WHERE TABLE_NAME = 'Sales'\"\n",
    "\n",
    "cursor.execute(sql_string)\n",
    "res = cursor.fetchall()\n",
    "print(\"Does Sales exist result: {}\".format(res))\n",
    "\n",
    "if len(res) == 0:\n",
    "    sales_exists = False\n",
    "else:\n",
    "    if 'Sales' in res[0]:\n",
    "        sales_exists = True\n",
    "    else:\n",
    "        sales_exists = False\n",
    "\n",
    "if not sales_exists:\n",
    "    print(\"Creating Sales table\")\n",
    "    cursor.execute('CREATE TABLE dbo.Sales \\\n",
    "                        (SaleId int not null identity(1, 1) primary key, \\\n",
    "                         OrderItem varchar(50) not null, \\\n",
    "                         OrderDescription varchar(50) null, \\\n",
    "                         PersonId int not null foreign key references dbo.Persons(id))')\n",
    "else:\n",
    "    print(\"Persons table already exists\")"
   ]
  },
  {
   "cell_type": "markdown",
   "metadata": {},
   "source": [
    "### Lets create some entries in Persons database"
   ]
  },
  {
   "cell_type": "code",
   "execution_count": 7,
   "metadata": {},
   "outputs": [],
   "source": [
    "def add_person(first, last):\n",
    "    sql_str = \"INSERT INTO [dbo].[Persons] \\\n",
    "                    ([First] ,[Last]) \\\n",
    "               VALUES \\\n",
    "                    ('{}', '{}')\".format(first, last)\n",
    "    cursor.execute(sql_str)"
   ]
  },
  {
   "cell_type": "code",
   "execution_count": 8,
   "metadata": {},
   "outputs": [],
   "source": [
    "add_person('John', 'Johnson')\n",
    "add_person('Søren', 'Sørensen')\n",
    "add_person('Anders', 'Andersen')"
   ]
  },
  {
   "cell_type": "markdown",
   "metadata": {},
   "source": [
    "Let's see what's in the database"
   ]
  },
  {
   "cell_type": "code",
   "execution_count": 9,
   "metadata": {},
   "outputs": [
    {
     "name": "stdout",
     "output_type": "stream",
     "text": [
      "(1, 'John', 'Johnson')\n",
      "(2, 'Søren', 'Sørensen')\n",
      "(3, 'Anders', 'Andersen')\n"
     ]
    }
   ],
   "source": [
    "cursor.execute('SELECT * FROM Persons')\n",
    "rows = cursor.fetchall()\n",
    "for row in rows:\n",
    "    print(row)"
   ]
  },
  {
   "cell_type": "markdown",
   "metadata": {},
   "source": [
    "### And some Sales entries"
   ]
  },
  {
   "cell_type": "code",
   "execution_count": 10,
   "metadata": {
    "collapsed": true
   },
   "outputs": [],
   "source": [
    "def add_sales(item, description, person_id):\n",
    "    sql_str = \"INSERT INTO [dbo].[Sales] \\\n",
    "                   ([OrderItem],[OrderDescription],[PersonId]) \\\n",
    "               VALUES \\\n",
    "                   ('{}', '{}', {})\".format(item, description, person_id)\n",
    "    cursor.execute(sql_str)"
   ]
  },
  {
   "cell_type": "code",
   "execution_count": 11,
   "metadata": {},
   "outputs": [],
   "source": [
    "add_sales('a thing', 'a description', 1)\n",
    "add_sales('another thing', 'another description', 3)"
   ]
  },
  {
   "cell_type": "markdown",
   "metadata": {},
   "source": [
    "And let's see what we got."
   ]
  },
  {
   "cell_type": "code",
   "execution_count": 12,
   "metadata": {},
   "outputs": [
    {
     "name": "stdout",
     "output_type": "stream",
     "text": [
      "(1, 'a thing', 'a description', 1)\n",
      "(2, 'another thing', 'another description', 3)\n"
     ]
    }
   ],
   "source": [
    "cursor.execute('SELECT * from Sales')\n",
    "rows = cursor.fetchall()\n",
    "for row in rows:\n",
    "    print(row)"
   ]
  },
  {
   "cell_type": "markdown",
   "metadata": {},
   "source": [
    "Now, let's try to add a sales entry with an invalid foreign key."
   ]
  },
  {
   "cell_type": "code",
   "execution_count": 13,
   "metadata": {},
   "outputs": [
    {
     "name": "stdout",
     "output_type": "stream",
     "text": [
      "('23000', '[23000] [Microsoft][ODBC Driver 13 for SQL Server][SQL Server]The INSERT statement conflicted with the FOREIGN KEY constraint \"FK__Sales__PersonId__245D67DE\". The conflict occurred in database \"PythonDatabase\", table \"dbo.Persons\", column \\'id\\'. (547) (SQLExecDirectW)')\n",
      "\n",
      "It didn't work!\n"
     ]
    }
   ],
   "source": [
    "try:\n",
    "    add_sales('an invalid thing', 'i hope', 675)\n",
    "except Exception as e:\n",
    "    print(e)\n",
    "    print(\"\")\n",
    "    print(\"It didn't work!\")"
   ]
  },
  {
   "cell_type": "markdown",
   "metadata": {},
   "source": [
    "It is required that the foreign key referenced exists in the other database..."
   ]
  }
 ],
 "metadata": {
  "kernelspec": {
   "display_name": "Python 3",
   "language": "python",
   "name": "python3"
  },
  "language_info": {
   "codemirror_mode": {
    "name": "ipython",
    "version": 3
   },
   "file_extension": ".py",
   "mimetype": "text/x-python",
   "name": "python",
   "nbconvert_exporter": "python",
   "pygments_lexer": "ipython3",
   "version": "3.6.3"
  }
 },
 "nbformat": 4,
 "nbformat_minor": 2
}
